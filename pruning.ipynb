{
 "cells": [
  {
   "cell_type": "code",
   "execution_count": 1,
   "metadata": {},
   "outputs": [
    {
     "name": "stdout",
     "output_type": "stream",
     "text": [
      "WARNING:tensorflow:From C:\\Users\\ALESSANDRO\\AppData\\Local\\Packages\\PythonSoftwareFoundation.Python.3.9_qbz5n2kfra8p0\\LocalCache\\local-packages\\Python39\\site-packages\\tf_keras\\src\\losses.py:2976: The name tf.losses.sparse_softmax_cross_entropy is deprecated. Please use tf.compat.v1.losses.sparse_softmax_cross_entropy instead.\n",
      "\n"
     ]
    }
   ],
   "source": [
    "import os;os.environ[\"TF_USE_LEGACY_KERAS\"]=\"1\"\n",
    "\n",
    "import tensorflow_model_optimization as tfmot\n",
    "import numpy as np\n",
    "from tensorflow import keras\n",
    "\n",
    "from src.preprocessing import dataset_preprocessing\n",
    "from src.utils import get_zipped_model_size, print_model_weights_sparsity"
   ]
  },
  {
   "cell_type": "code",
   "execution_count": 2,
   "metadata": {},
   "outputs": [],
   "source": [
    "BATCH_SIZE = 32\n",
    "IMAGE_SIZE = 224\n",
    "INPUT_SHAPE = (IMAGE_SIZE, IMAGE_SIZE, 3)\n",
    "EPOCHS = 70\n",
    "DROPOUT = 0.2\n",
    "SCALE = 127.5\n",
    "OFFSET = -1\n",
    "\n",
    "PRUNING_EPOCHS = 3\n",
    "INITIAL_SPARSITY = 0.20\n",
    "FINAL_SPARSITY = 0.60\n",
    "\n",
    "PATH = \"..\\dataset_04\"\n",
    "\n",
    "LOADED_MODEL = \"04_mobilenet_v2_0.35_224\"\n",
    "MODEL_NAME = \"04_pruned_mobilenet_v2_0.35_224\"\n",
    "SAVE = True"
   ]
  },
  {
   "cell_type": "code",
   "execution_count": 3,
   "metadata": {},
   "outputs": [
    {
     "name": "stdout",
     "output_type": "stream",
     "text": [
      "Found 1281 files belonging to 9 classes.\n",
      "WARNING:tensorflow:From C:\\Users\\ALESSANDRO\\AppData\\Local\\Packages\\PythonSoftwareFoundation.Python.3.9_qbz5n2kfra8p0\\LocalCache\\local-packages\\Python39\\site-packages\\tf_keras\\src\\backend.py:873: The name tf.get_default_graph is deprecated. Please use tf.compat.v1.get_default_graph instead.\n",
      "\n"
     ]
    }
   ],
   "source": [
    "dataset = keras.utils.image_dataset_from_directory(PATH,\n",
    "                                                   shuffle = True,\n",
    "                                                   batch_size = BATCH_SIZE,\n",
    "                                                   image_size = (IMAGE_SIZE, IMAGE_SIZE))\n",
    "\n",
    "class_names = dataset.class_names\n",
    "number_classes = len(class_names)\n",
    "\n",
    "training_dataset, validation_dataset, testing_dataset = dataset_preprocessing(dataset,\n",
    "                                                                              train_size=0.80,\n",
    "                                                                              validation_size=0.1, \n",
    "                                                                              augmentation_flag = True, \n",
    "                                                                              rescaling_flag = True, \n",
    "                                                                              prefetch_flag = True, \n",
    "                                                                              scale = SCALE, \n",
    "                                                                              offset = OFFSET)"
   ]
  },
  {
   "cell_type": "code",
   "execution_count": 4,
   "metadata": {},
   "outputs": [
    {
     "name": "stdout",
     "output_type": "stream",
     "text": [
      "WARNING:tensorflow:From C:\\Users\\ALESSANDRO\\AppData\\Local\\Packages\\PythonSoftwareFoundation.Python.3.9_qbz5n2kfra8p0\\LocalCache\\local-packages\\Python39\\site-packages\\tf_keras\\src\\layers\\normalization\\batch_normalization.py:979: The name tf.nn.fused_batch_norm is deprecated. Please use tf.compat.v1.nn.fused_batch_norm instead.\n",
      "\n"
     ]
    }
   ],
   "source": [
    "model = keras.models.load_model('saved_models/' + LOADED_MODEL + '.keras')"
   ]
  },
  {
   "cell_type": "code",
   "execution_count": 5,
   "metadata": {},
   "outputs": [],
   "source": [
    "#_, baseline_accuracy = model.evaluate(testing_dataset, verbose = 0)\n",
    "#print('Baseline accuracy: ', round(baseline_accuracy*100, 3), '%')"
   ]
  },
  {
   "cell_type": "code",
   "execution_count": 6,
   "metadata": {},
   "outputs": [],
   "source": [
    "#model.summary()"
   ]
  },
  {
   "cell_type": "code",
   "execution_count": 7,
   "metadata": {},
   "outputs": [],
   "source": [
    "from src.custom_mobilenet_v2 import MobileNet_v2\n",
    "\n",
    "custom_model = MobileNet_v2(INPUT_SHAPE, 0.35, number_classes, dropout=DROPOUT)\n",
    "\n",
    "for i, layer in enumerate(model.layers):\n",
    "        custom_model.layers[i].set_weights(layer.get_weights())"
   ]
  },
  {
   "cell_type": "code",
   "execution_count": 8,
   "metadata": {},
   "outputs": [
    {
     "name": "stdout",
     "output_type": "stream",
     "text": [
      "WARNING:tensorflow:From C:\\Users\\ALESSANDRO\\AppData\\Local\\Packages\\PythonSoftwareFoundation.Python.3.9_qbz5n2kfra8p0\\LocalCache\\local-packages\\Python39\\site-packages\\tensorflow\\python\\autograph\\converters\\directives.py:126: The name tf.ragged.RaggedTensorValue is deprecated. Please use tf.compat.v1.ragged.RaggedTensorValue instead.\n",
      "\n",
      "WARNING:tensorflow:From C:\\Users\\ALESSANDRO\\AppData\\Local\\Packages\\PythonSoftwareFoundation.Python.3.9_qbz5n2kfra8p0\\LocalCache\\local-packages\\Python39\\site-packages\\tf_keras\\src\\engine\\base_layer_utils.py:384: The name tf.executing_eagerly_outside_functions is deprecated. Please use tf.compat.v1.executing_eagerly_outside_functions instead.\n",
      "\n",
      "Baseline accuracy:  95.17 %\n"
     ]
    }
   ],
   "source": [
    "custom_model.compile(optimizer = keras.optimizers.Adam(1e-3),\n",
    "              loss= keras.losses.SparseCategoricalCrossentropy(from_logits=False),\n",
    "              metrics=['accuracy'])\n",
    "\n",
    "_, baseline_accuracy = custom_model.evaluate(testing_dataset, verbose = 0)\n",
    "\n",
    "print('Baseline accuracy: ' , round(100* baseline_accuracy,3),  '%')"
   ]
  },
  {
   "cell_type": "code",
   "execution_count": 9,
   "metadata": {},
   "outputs": [],
   "source": [
    "#custom_model.summary()"
   ]
  },
  {
   "cell_type": "code",
   "execution_count": 10,
   "metadata": {},
   "outputs": [
    {
     "name": "stdout",
     "output_type": "stream",
     "text": [
      "Epoch 1/3\n",
      "24/24 [==============================] - 142s 2s/step - loss: 7.2335 - accuracy: 0.4023 - val_loss: 0.8709 - val_accuracy: 0.7917\n",
      "Epoch 2/3\n",
      "24/24 [==============================] - 30s 1s/step - loss: 8.5096 - accuracy: 0.3320 - val_loss: 9.0482 - val_accuracy: 0.1927\n",
      "Epoch 3/3\n",
      "24/24 [==============================] - 30s 1s/step - loss: 7.6415 - accuracy: 0.3060 - val_loss: 19.2021 - val_accuracy: 0.1927\n"
     ]
    },
    {
     "data": {
      "text/plain": [
       "<tf_keras.src.callbacks.History at 0x19cd0103340>"
      ]
     },
     "execution_count": 10,
     "metadata": {},
     "output_type": "execute_result"
    }
   ],
   "source": [
    "custom_model.trainable= True\n",
    "\n",
    "prune_low_magnitude = tfmot.sparsity.keras.prune_low_magnitude\n",
    "\n",
    "num_images = (len(training_dataset)) *BATCH_SIZE\n",
    "end_step = np.ceil(num_images / BATCH_SIZE).astype(np.int32) * PRUNING_EPOCHS\n",
    "\n",
    "\n",
    "pruning_params = {\n",
    "    'pruning_schedule': tfmot.sparsity.keras.PolynomialDecay(initial_sparsity=INITIAL_SPARSITY, \n",
    "                                                             final_sparsity=FINAL_SPARSITY,\n",
    "                                                             begin_step=0, \n",
    "                                                             end_step=end_step,\n",
    "                                                             frequency = 30)}\n",
    "''' \n",
    "pruning_params = {\n",
    "    'pruning_schedule': tfmot.sparsity.keras.ConstantSparsity(0.5,\n",
    "                                                              begin_step=0,\n",
    "                                                              frequency=100)}\n",
    "'''\n",
    "\n",
    "pruned_model = prune_low_magnitude(custom_model, **pruning_params)\n",
    "\n",
    "callbacks = [tfmot.sparsity.keras.UpdatePruningStep()]\n",
    "\n",
    "pruned_model.compile(optimizer= keras.optimizers.Adam(learning_rate=1e-5),\n",
    "                     loss= keras.losses.SparseCategoricalCrossentropy(from_logits=False),\n",
    "                     metrics=['accuracy'])\n",
    "\n",
    "\n",
    "# Fine tune the model\n",
    "pruned_model.fit(training_dataset,\n",
    "                 validation_data=validation_dataset,\n",
    "                 epochs= PRUNING_EPOCHS,\n",
    "                 verbose=1,\n",
    "                 callbacks=callbacks)"
   ]
  },
  {
   "cell_type": "code",
   "execution_count": null,
   "metadata": {},
   "outputs": [],
   "source": [
    "dataset_num_train_examples = len(training_dataset)*BATCH_SIZE\n",
    "steps_per_epoch = dataset_num_train_examples // BATCH_SIZE\n",
    "total_steps = steps_per_epoch * EPOCHS\n",
    "\n",
    "learning_rate_fn = keras.optimizers.schedules.PolynomialDecay(\n",
    "    5e-3,\n",
    "    total_steps,\n",
    "    1e-3,\n",
    "    power=3)\n",
    "\n",
    "import matplotlib.pyplot as plt\n",
    "import numpy as np\n",
    "\n",
    "lrs = learning_rate_fn(np.arange(0,total_steps))\n",
    "plt.plot(lrs)\n",
    "plt.xlabel(\"Step\", fontsize=14)\n",
    "plt.ylabel(\"LR\", fontsize=14)\n",
    "plt.show()\n"
   ]
  },
  {
   "cell_type": "code",
   "execution_count": 11,
   "metadata": {},
   "outputs": [
    {
     "name": "stdout",
     "output_type": "stream",
     "text": [
      "Epoch 1/70\n",
      "24/24 [==============================] - 130s 2s/step - loss: 1.2725 - accuracy: 0.6836 - val_loss: 13.6339 - val_accuracy: 0.1927\n",
      "Epoch 2/70\n",
      "24/24 [==============================] - 30s 1s/step - loss: 0.4275 - accuracy: 0.8568 - val_loss: 7.7613 - val_accuracy: 0.1927\n",
      "Epoch 3/70\n",
      "24/24 [==============================] - 30s 1s/step - loss: 0.2719 - accuracy: 0.9089 - val_loss: 6.5624 - val_accuracy: 0.1927\n",
      "Epoch 4/70\n",
      "24/24 [==============================] - 30s 1s/step - loss: 0.1237 - accuracy: 0.9505 - val_loss: 4.3589 - val_accuracy: 0.2500\n",
      "Epoch 5/70\n",
      "24/24 [==============================] - 30s 1s/step - loss: 0.1106 - accuracy: 0.9648 - val_loss: 2.2638 - val_accuracy: 0.5729\n",
      "Epoch 6/70\n",
      "24/24 [==============================] - 30s 1s/step - loss: 0.0583 - accuracy: 0.9779 - val_loss: 2.5617 - val_accuracy: 0.5677\n",
      "Epoch 7/70\n",
      "24/24 [==============================] - 30s 1s/step - loss: 0.0300 - accuracy: 0.9935 - val_loss: 1.8199 - val_accuracy: 0.6198\n",
      "Epoch 8/70\n",
      "24/24 [==============================] - 30s 1s/step - loss: 0.0297 - accuracy: 0.9961 - val_loss: 1.2794 - val_accuracy: 0.7188\n",
      "Epoch 9/70\n",
      "24/24 [==============================] - 29s 1s/step - loss: 0.0255 - accuracy: 0.9935 - val_loss: 0.4085 - val_accuracy: 0.8906\n",
      "Epoch 10/70\n",
      "24/24 [==============================] - 29s 1s/step - loss: 0.0219 - accuracy: 0.9922 - val_loss: 0.3470 - val_accuracy: 0.8854\n",
      "Epoch 11/70\n",
      "24/24 [==============================] - 31s 1s/step - loss: 0.0252 - accuracy: 0.9896 - val_loss: 0.8384 - val_accuracy: 0.8385\n",
      "Epoch 12/70\n",
      "24/24 [==============================] - 30s 1s/step - loss: 0.0575 - accuracy: 0.9792 - val_loss: 0.3689 - val_accuracy: 0.9062\n",
      "Epoch 13/70\n",
      "24/24 [==============================] - 30s 1s/step - loss: 0.0625 - accuracy: 0.9779 - val_loss: 1.0841 - val_accuracy: 0.7656\n",
      "Epoch 14/70\n",
      "24/24 [==============================] - 31s 1s/step - loss: 0.0993 - accuracy: 0.9701 - val_loss: 0.3421 - val_accuracy: 0.9010\n",
      "Epoch 15/70\n",
      "24/24 [==============================] - 32s 1s/step - loss: 0.0508 - accuracy: 0.9831 - val_loss: 0.2588 - val_accuracy: 0.9375\n",
      "Epoch 16/70\n",
      "24/24 [==============================] - 35s 1s/step - loss: 0.0232 - accuracy: 0.9896 - val_loss: 0.5960 - val_accuracy: 0.8281\n",
      "Epoch 17/70\n",
      "24/24 [==============================] - 34s 1s/step - loss: 0.0330 - accuracy: 0.9896 - val_loss: 0.1859 - val_accuracy: 0.9427\n",
      "Epoch 18/70\n",
      "24/24 [==============================] - 33s 1s/step - loss: 0.0169 - accuracy: 0.9948 - val_loss: 0.5502 - val_accuracy: 0.8698\n",
      "Epoch 19/70\n",
      "24/24 [==============================] - 30s 1s/step - loss: 0.0363 - accuracy: 0.9922 - val_loss: 0.2239 - val_accuracy: 0.9531\n",
      "Epoch 20/70\n",
      "24/24 [==============================] - 29s 1s/step - loss: 0.0240 - accuracy: 0.9961 - val_loss: 0.0723 - val_accuracy: 0.9792\n",
      "Epoch 21/70\n",
      "24/24 [==============================] - 30s 1s/step - loss: 0.0056 - accuracy: 0.9987 - val_loss: 0.0948 - val_accuracy: 0.9740\n",
      "Epoch 22/70\n",
      "24/24 [==============================] - 30s 1s/step - loss: 0.0046 - accuracy: 0.9987 - val_loss: 0.1090 - val_accuracy: 0.9688\n",
      "Epoch 23/70\n",
      "24/24 [==============================] - 30s 1s/step - loss: 0.0033 - accuracy: 0.9987 - val_loss: 0.1173 - val_accuracy: 0.9635\n",
      "Epoch 24/70\n",
      "24/24 [==============================] - 29s 1s/step - loss: 0.0012 - accuracy: 1.0000 - val_loss: 0.1233 - val_accuracy: 0.9583\n",
      "Epoch 25/70\n",
      "24/24 [==============================] - 29s 1s/step - loss: 0.0015 - accuracy: 1.0000 - val_loss: 0.1424 - val_accuracy: 0.9583\n"
     ]
    },
    {
     "data": {
      "text/plain": [
       "<tf_keras.src.callbacks.History at 0x19ce3bf6040>"
      ]
     },
     "execution_count": 11,
     "metadata": {},
     "output_type": "execute_result"
    }
   ],
   "source": [
    "pruned_model.compile(optimizer = keras.optimizers.Adam(1e-3),\n",
    "              loss= keras.losses.SparseCategoricalCrossentropy(from_logits=False),\n",
    "              metrics=['accuracy'])\n",
    "\n",
    "early_stopping = keras.callbacks.EarlyStopping(patience=5, monitor='val_accuracy', restore_best_weights=True )\n",
    "\n",
    "pruned_model.fit(training_dataset,\n",
    "                 validation_data=validation_dataset,\n",
    "                 epochs=EPOCHS,\n",
    "                 callbacks=[early_stopping])"
   ]
  },
  {
   "cell_type": "code",
   "execution_count": 12,
   "metadata": {},
   "outputs": [
    {
     "name": "stdout",
     "output_type": "stream",
     "text": [
      "Pruned accuracy:  97.443 %\n"
     ]
    }
   ],
   "source": [
    "_, pruned_accuracy = pruned_model.evaluate(testing_dataset, verbose = 0)\n",
    "#print('Baseline accuracy: ' , round(100* baseline_accuracy,3),  '%')\n",
    "print('Pruned accuracy: '   , round(100* pruned_accuracy,3) ,   '%')"
   ]
  },
  {
   "cell_type": "code",
   "execution_count": 13,
   "metadata": {},
   "outputs": [
    {
     "name": "stdout",
     "output_type": "stream",
     "text": [
      "conv2d/kernel:0: 59.72% sparsity  (258/432)\n",
      "batch_normalization/gamma:0: 0.00% sparsity  (0/16)\n",
      "batch_normalization/beta:0: 0.00% sparsity  (0/16)\n",
      "batch_normalization/moving_mean:0: 0.00% sparsity  (0/16)\n",
      "batch_normalization/moving_variance:0: 0.00% sparsity  (0/16)\n",
      "depthwise_conv2d/depthwise_kernel:0: 0.00% sparsity  (0/144)\n",
      "batch_normalization_1/gamma:0: 0.00% sparsity  (0/16)\n",
      "batch_normalization_1/beta:0: 0.00% sparsity  (0/16)\n",
      "batch_normalization_1/moving_mean:0: 0.00% sparsity  (0/16)\n",
      "batch_normalization_1/moving_variance:0: 0.00% sparsity  (0/16)\n",
      "conv2d_1/kernel:0: 60.16% sparsity  (77/128)\n",
      "batch_normalization_2/gamma:0: 0.00% sparsity  (0/8)\n",
      "batch_normalization_2/beta:0: 0.00% sparsity  (0/8)\n",
      "batch_normalization_2/moving_mean:0: 0.00% sparsity  (0/8)\n",
      "batch_normalization_2/moving_variance:0: 0.00% sparsity  (0/8)\n",
      "conv2d_2/kernel:0: 59.90% sparsity  (230/384)\n",
      "batch_normalization_3/gamma:0: 0.00% sparsity  (0/48)\n",
      "batch_normalization_3/beta:0: 0.00% sparsity  (0/48)\n",
      "batch_normalization_3/moving_mean:0: 0.00% sparsity  (0/48)\n",
      "batch_normalization_3/moving_variance:0: 0.00% sparsity  (0/48)\n",
      "depthwise_conv2d_1/depthwise_kernel:0: 0.00% sparsity  (0/432)\n",
      "batch_normalization_4/gamma:0: 0.00% sparsity  (0/48)\n",
      "batch_normalization_4/beta:0: 0.00% sparsity  (0/48)\n",
      "batch_normalization_4/moving_mean:0: 0.00% sparsity  (0/48)\n",
      "batch_normalization_4/moving_variance:0: 0.00% sparsity  (0/48)\n",
      "conv2d_3/kernel:0: 59.90% sparsity  (230/384)\n",
      "batch_normalization_5/gamma:0: 0.00% sparsity  (0/8)\n",
      "batch_normalization_5/beta:0: 0.00% sparsity  (0/8)\n",
      "batch_normalization_5/moving_mean:0: 0.00% sparsity  (0/8)\n",
      "batch_normalization_5/moving_variance:0: 0.00% sparsity  (0/8)\n",
      "conv2d_4/kernel:0: 59.90% sparsity  (230/384)\n",
      "batch_normalization_6/gamma:0: 0.00% sparsity  (0/48)\n",
      "batch_normalization_6/beta:0: 0.00% sparsity  (0/48)\n",
      "batch_normalization_6/moving_mean:0: 0.00% sparsity  (0/48)\n",
      "batch_normalization_6/moving_variance:0: 0.00% sparsity  (0/48)\n",
      "depthwise_conv2d_2/depthwise_kernel:0: 0.00% sparsity  (0/432)\n",
      "batch_normalization_7/gamma:0: 0.00% sparsity  (0/48)\n",
      "batch_normalization_7/beta:0: 0.00% sparsity  (0/48)\n",
      "batch_normalization_7/moving_mean:0: 0.00% sparsity  (0/48)\n",
      "batch_normalization_7/moving_variance:0: 0.00% sparsity  (0/48)\n",
      "conv2d_5/kernel:0: 59.90% sparsity  (230/384)\n",
      "batch_normalization_8/gamma:0: 0.00% sparsity  (0/8)\n",
      "batch_normalization_8/beta:0: 0.00% sparsity  (0/8)\n",
      "batch_normalization_8/moving_mean:0: 0.00% sparsity  (0/8)\n",
      "batch_normalization_8/moving_variance:0: 0.00% sparsity  (0/8)\n",
      "conv2d_6/kernel:0: 59.90% sparsity  (230/384)\n",
      "batch_normalization_9/gamma:0: 0.00% sparsity  (0/48)\n",
      "batch_normalization_9/beta:0: 0.00% sparsity  (0/48)\n",
      "batch_normalization_9/moving_mean:0: 0.00% sparsity  (0/48)\n",
      "batch_normalization_9/moving_variance:0: 0.00% sparsity  (0/48)\n",
      "depthwise_conv2d_3/depthwise_kernel:0: 0.00% sparsity  (0/432)\n",
      "batch_normalization_10/gamma:0: 0.00% sparsity  (0/48)\n",
      "batch_normalization_10/beta:0: 0.00% sparsity  (0/48)\n",
      "batch_normalization_10/moving_mean:0: 0.00% sparsity  (0/48)\n",
      "batch_normalization_10/moving_variance:0: 0.00% sparsity  (0/48)\n",
      "conv2d_7/kernel:0: 59.77% sparsity  (459/768)\n",
      "batch_normalization_11/gamma:0: 0.00% sparsity  (0/16)\n",
      "batch_normalization_11/beta:0: 0.00% sparsity  (0/16)\n",
      "batch_normalization_11/moving_mean:0: 0.00% sparsity  (0/16)\n",
      "batch_normalization_11/moving_variance:0: 0.00% sparsity  (0/16)\n",
      "conv2d_8/kernel:0: 59.83% sparsity  (919/1536)\n",
      "batch_normalization_12/gamma:0: 0.00% sparsity  (0/96)\n",
      "batch_normalization_12/beta:0: 0.00% sparsity  (0/96)\n",
      "batch_normalization_12/moving_mean:0: 0.00% sparsity  (0/96)\n",
      "batch_normalization_12/moving_variance:0: 0.00% sparsity  (0/96)\n",
      "depthwise_conv2d_4/depthwise_kernel:0: 0.00% sparsity  (0/864)\n",
      "batch_normalization_13/gamma:0: 0.00% sparsity  (0/96)\n",
      "batch_normalization_13/beta:0: 0.00% sparsity  (0/96)\n",
      "batch_normalization_13/moving_mean:0: 0.00% sparsity  (0/96)\n",
      "batch_normalization_13/moving_variance:0: 0.00% sparsity  (0/96)\n",
      "conv2d_9/kernel:0: 59.83% sparsity  (919/1536)\n",
      "batch_normalization_14/gamma:0: 0.00% sparsity  (0/16)\n",
      "batch_normalization_14/beta:0: 0.00% sparsity  (0/16)\n",
      "batch_normalization_14/moving_mean:0: 0.00% sparsity  (0/16)\n",
      "batch_normalization_14/moving_variance:0: 0.00% sparsity  (0/16)\n",
      "conv2d_10/kernel:0: 59.83% sparsity  (919/1536)\n",
      "batch_normalization_15/gamma:0: 0.00% sparsity  (0/96)\n",
      "batch_normalization_15/beta:0: 0.00% sparsity  (0/96)\n",
      "batch_normalization_15/moving_mean:0: 0.00% sparsity  (0/96)\n",
      "batch_normalization_15/moving_variance:0: 0.00% sparsity  (0/96)\n",
      "depthwise_conv2d_5/depthwise_kernel:0: 0.00% sparsity  (0/864)\n",
      "batch_normalization_16/gamma:0: 0.00% sparsity  (0/96)\n",
      "batch_normalization_16/beta:0: 0.00% sparsity  (0/96)\n",
      "batch_normalization_16/moving_mean:0: 0.00% sparsity  (0/96)\n",
      "batch_normalization_16/moving_variance:0: 0.00% sparsity  (0/96)\n",
      "conv2d_11/kernel:0: 59.83% sparsity  (919/1536)\n",
      "batch_normalization_17/gamma:0: 0.00% sparsity  (0/16)\n",
      "batch_normalization_17/beta:0: 0.00% sparsity  (0/16)\n",
      "batch_normalization_17/moving_mean:0: 0.00% sparsity  (0/16)\n",
      "batch_normalization_17/moving_variance:0: 0.00% sparsity  (0/16)\n",
      "conv2d_12/kernel:0: 59.83% sparsity  (919/1536)\n",
      "batch_normalization_18/gamma:0: 0.00% sparsity  (0/96)\n",
      "batch_normalization_18/beta:0: 0.00% sparsity  (0/96)\n",
      "batch_normalization_18/moving_mean:0: 0.00% sparsity  (0/96)\n",
      "batch_normalization_18/moving_variance:0: 0.00% sparsity  (0/96)\n",
      "depthwise_conv2d_6/depthwise_kernel:0: 0.00% sparsity  (0/864)\n",
      "batch_normalization_19/gamma:0: 0.00% sparsity  (0/96)\n",
      "batch_normalization_19/beta:0: 0.00% sparsity  (0/96)\n",
      "batch_normalization_19/moving_mean:0: 0.00% sparsity  (0/96)\n",
      "batch_normalization_19/moving_variance:0: 0.00% sparsity  (0/96)\n",
      "conv2d_13/kernel:0: 59.81% sparsity  (1378/2304)\n",
      "batch_normalization_20/gamma:0: 0.00% sparsity  (0/24)\n",
      "batch_normalization_20/beta:0: 0.00% sparsity  (0/24)\n",
      "batch_normalization_20/moving_mean:0: 0.00% sparsity  (0/24)\n",
      "batch_normalization_20/moving_variance:0: 0.00% sparsity  (0/24)\n",
      "conv2d_14/kernel:0: 59.81% sparsity  (2067/3456)\n",
      "batch_normalization_21/gamma:0: 0.00% sparsity  (0/144)\n",
      "batch_normalization_21/beta:0: 0.00% sparsity  (0/144)\n",
      "batch_normalization_21/moving_mean:0: 0.00% sparsity  (0/144)\n",
      "batch_normalization_21/moving_variance:0: 0.00% sparsity  (0/144)\n",
      "depthwise_conv2d_7/depthwise_kernel:0: 0.00% sparsity  (0/1296)\n",
      "batch_normalization_22/gamma:0: 0.00% sparsity  (0/144)\n",
      "batch_normalization_22/beta:0: 0.00% sparsity  (0/144)\n",
      "batch_normalization_22/moving_mean:0: 0.00% sparsity  (0/144)\n",
      "batch_normalization_22/moving_variance:0: 0.00% sparsity  (0/144)\n",
      "conv2d_15/kernel:0: 59.81% sparsity  (2067/3456)\n",
      "batch_normalization_23/gamma:0: 0.00% sparsity  (0/24)\n",
      "batch_normalization_23/beta:0: 0.00% sparsity  (0/24)\n",
      "batch_normalization_23/moving_mean:0: 0.00% sparsity  (0/24)\n",
      "batch_normalization_23/moving_variance:0: 0.00% sparsity  (0/24)\n",
      "conv2d_16/kernel:0: 59.81% sparsity  (2067/3456)\n",
      "batch_normalization_24/gamma:0: 0.00% sparsity  (0/144)\n",
      "batch_normalization_24/beta:0: 0.00% sparsity  (0/144)\n",
      "batch_normalization_24/moving_mean:0: 0.00% sparsity  (0/144)\n",
      "batch_normalization_24/moving_variance:0: 0.00% sparsity  (0/144)\n",
      "depthwise_conv2d_8/depthwise_kernel:0: 0.00% sparsity  (0/1296)\n",
      "batch_normalization_25/gamma:0: 0.00% sparsity  (0/144)\n",
      "batch_normalization_25/beta:0: 0.00% sparsity  (0/144)\n",
      "batch_normalization_25/moving_mean:0: 0.00% sparsity  (0/144)\n",
      "batch_normalization_25/moving_variance:0: 0.00% sparsity  (0/144)\n",
      "conv2d_17/kernel:0: 59.81% sparsity  (2067/3456)\n",
      "batch_normalization_26/gamma:0: 0.00% sparsity  (0/24)\n",
      "batch_normalization_26/beta:0: 0.00% sparsity  (0/24)\n",
      "batch_normalization_26/moving_mean:0: 0.00% sparsity  (0/24)\n",
      "batch_normalization_26/moving_variance:0: 0.00% sparsity  (0/24)\n",
      "conv2d_18/kernel:0: 59.81% sparsity  (2067/3456)\n",
      "batch_normalization_27/gamma:0: 0.00% sparsity  (0/144)\n",
      "batch_normalization_27/beta:0: 0.00% sparsity  (0/144)\n",
      "batch_normalization_27/moving_mean:0: 0.00% sparsity  (0/144)\n",
      "batch_normalization_27/moving_variance:0: 0.00% sparsity  (0/144)\n",
      "depthwise_conv2d_9/depthwise_kernel:0: 0.00% sparsity  (0/1296)\n",
      "batch_normalization_28/gamma:0: 0.00% sparsity  (0/144)\n",
      "batch_normalization_28/beta:0: 0.00% sparsity  (0/144)\n",
      "batch_normalization_28/moving_mean:0: 0.00% sparsity  (0/144)\n",
      "batch_normalization_28/moving_variance:0: 0.00% sparsity  (0/144)\n",
      "conv2d_19/kernel:0: 59.81% sparsity  (2067/3456)\n",
      "batch_normalization_29/gamma:0: 0.00% sparsity  (0/24)\n",
      "batch_normalization_29/beta:0: 0.00% sparsity  (0/24)\n",
      "batch_normalization_29/moving_mean:0: 0.00% sparsity  (0/24)\n",
      "batch_normalization_29/moving_variance:0: 0.00% sparsity  (0/24)\n",
      "conv2d_20/kernel:0: 59.81% sparsity  (2067/3456)\n",
      "batch_normalization_30/gamma:0: 0.00% sparsity  (0/144)\n",
      "batch_normalization_30/beta:0: 0.00% sparsity  (0/144)\n",
      "batch_normalization_30/moving_mean:0: 0.00% sparsity  (0/144)\n",
      "batch_normalization_30/moving_variance:0: 0.00% sparsity  (0/144)\n",
      "depthwise_conv2d_10/depthwise_kernel:0: 0.00% sparsity  (0/1296)\n",
      "batch_normalization_31/gamma:0: 0.00% sparsity  (0/144)\n",
      "batch_normalization_31/beta:0: 0.00% sparsity  (0/144)\n",
      "batch_normalization_31/moving_mean:0: 0.00% sparsity  (0/144)\n",
      "batch_normalization_31/moving_variance:0: 0.00% sparsity  (0/144)\n",
      "conv2d_21/kernel:0: 59.81% sparsity  (2756/4608)\n",
      "batch_normalization_32/gamma:0: 0.00% sparsity  (0/32)\n",
      "batch_normalization_32/beta:0: 0.00% sparsity  (0/32)\n",
      "batch_normalization_32/moving_mean:0: 0.00% sparsity  (0/32)\n",
      "batch_normalization_32/moving_variance:0: 0.00% sparsity  (0/32)\n",
      "conv2d_22/kernel:0: 59.81% sparsity  (3675/6144)\n",
      "batch_normalization_33/gamma:0: 0.00% sparsity  (0/192)\n",
      "batch_normalization_33/beta:0: 0.00% sparsity  (0/192)\n",
      "batch_normalization_33/moving_mean:0: 0.00% sparsity  (0/192)\n",
      "batch_normalization_33/moving_variance:0: 0.00% sparsity  (0/192)\n",
      "depthwise_conv2d_11/depthwise_kernel:0: 0.00% sparsity  (0/1728)\n",
      "batch_normalization_34/gamma:0: 0.00% sparsity  (0/192)\n",
      "batch_normalization_34/beta:0: 0.00% sparsity  (0/192)\n",
      "batch_normalization_34/moving_mean:0: 0.00% sparsity  (0/192)\n",
      "batch_normalization_34/moving_variance:0: 0.00% sparsity  (0/192)\n",
      "conv2d_23/kernel:0: 59.81% sparsity  (3675/6144)\n",
      "batch_normalization_35/gamma:0: 0.00% sparsity  (0/32)\n",
      "batch_normalization_35/beta:0: 0.00% sparsity  (0/32)\n",
      "batch_normalization_35/moving_mean:0: 0.00% sparsity  (0/32)\n",
      "batch_normalization_35/moving_variance:0: 0.00% sparsity  (0/32)\n",
      "conv2d_24/kernel:0: 59.81% sparsity  (3675/6144)\n",
      "batch_normalization_36/gamma:0: 0.00% sparsity  (0/192)\n",
      "batch_normalization_36/beta:0: 0.00% sparsity  (0/192)\n",
      "batch_normalization_36/moving_mean:0: 0.00% sparsity  (0/192)\n",
      "batch_normalization_36/moving_variance:0: 0.00% sparsity  (0/192)\n",
      "depthwise_conv2d_12/depthwise_kernel:0: 0.00% sparsity  (0/1728)\n",
      "batch_normalization_37/gamma:0: 0.00% sparsity  (0/192)\n",
      "batch_normalization_37/beta:0: 0.00% sparsity  (0/192)\n",
      "batch_normalization_37/moving_mean:0: 0.00% sparsity  (0/192)\n",
      "batch_normalization_37/moving_variance:0: 0.00% sparsity  (0/192)\n",
      "conv2d_25/kernel:0: 59.81% sparsity  (3675/6144)\n",
      "batch_normalization_38/gamma:0: 0.00% sparsity  (0/32)\n",
      "batch_normalization_38/beta:0: 0.00% sparsity  (0/32)\n",
      "batch_normalization_38/moving_mean:0: 0.00% sparsity  (0/32)\n",
      "batch_normalization_38/moving_variance:0: 0.00% sparsity  (0/32)\n",
      "conv2d_26/kernel:0: 59.81% sparsity  (3675/6144)\n",
      "batch_normalization_39/gamma:0: 0.00% sparsity  (0/192)\n",
      "batch_normalization_39/beta:0: 0.00% sparsity  (0/192)\n",
      "batch_normalization_39/moving_mean:0: 0.00% sparsity  (0/192)\n",
      "batch_normalization_39/moving_variance:0: 0.00% sparsity  (0/192)\n",
      "depthwise_conv2d_13/depthwise_kernel:0: 0.00% sparsity  (0/1728)\n",
      "batch_normalization_40/gamma:0: 0.00% sparsity  (0/192)\n",
      "batch_normalization_40/beta:0: 0.00% sparsity  (0/192)\n",
      "batch_normalization_40/moving_mean:0: 0.00% sparsity  (0/192)\n",
      "batch_normalization_40/moving_variance:0: 0.00% sparsity  (0/192)\n",
      "conv2d_27/kernel:0: 59.81% sparsity  (6431/10752)\n",
      "batch_normalization_41/gamma:0: 0.00% sparsity  (0/56)\n",
      "batch_normalization_41/beta:0: 0.00% sparsity  (0/56)\n",
      "batch_normalization_41/moving_mean:0: 0.00% sparsity  (0/56)\n",
      "batch_normalization_41/moving_variance:0: 0.00% sparsity  (0/56)\n",
      "conv2d_28/kernel:0: 59.82% sparsity  (11255/18816)\n",
      "batch_normalization_42/gamma:0: 0.00% sparsity  (0/336)\n",
      "batch_normalization_42/beta:0: 0.00% sparsity  (0/336)\n",
      "batch_normalization_42/moving_mean:0: 0.00% sparsity  (0/336)\n",
      "batch_normalization_42/moving_variance:0: 0.00% sparsity  (0/336)\n",
      "depthwise_conv2d_14/depthwise_kernel:0: 0.00% sparsity  (0/3024)\n",
      "batch_normalization_43/gamma:0: 0.00% sparsity  (0/336)\n",
      "batch_normalization_43/beta:0: 0.00% sparsity  (0/336)\n",
      "batch_normalization_43/moving_mean:0: 0.00% sparsity  (0/336)\n",
      "batch_normalization_43/moving_variance:0: 0.00% sparsity  (0/336)\n",
      "conv2d_29/kernel:0: 59.82% sparsity  (11255/18816)\n",
      "batch_normalization_44/gamma:0: 0.00% sparsity  (0/56)\n",
      "batch_normalization_44/beta:0: 0.00% sparsity  (0/56)\n",
      "batch_normalization_44/moving_mean:0: 0.00% sparsity  (0/56)\n",
      "batch_normalization_44/moving_variance:0: 0.00% sparsity  (0/56)\n",
      "conv2d_30/kernel:0: 59.82% sparsity  (11255/18816)\n",
      "batch_normalization_45/gamma:0: 0.00% sparsity  (0/336)\n",
      "batch_normalization_45/beta:0: 0.00% sparsity  (0/336)\n",
      "batch_normalization_45/moving_mean:0: 0.00% sparsity  (0/336)\n",
      "batch_normalization_45/moving_variance:0: 0.00% sparsity  (0/336)\n",
      "depthwise_conv2d_15/depthwise_kernel:0: 0.00% sparsity  (0/3024)\n",
      "batch_normalization_46/gamma:0: 0.00% sparsity  (0/336)\n",
      "batch_normalization_46/beta:0: 0.00% sparsity  (0/336)\n",
      "batch_normalization_46/moving_mean:0: 0.00% sparsity  (0/336)\n",
      "batch_normalization_46/moving_variance:0: 0.00% sparsity  (0/336)\n",
      "conv2d_31/kernel:0: 59.82% sparsity  (11255/18816)\n",
      "batch_normalization_47/gamma:0: 0.00% sparsity  (0/56)\n",
      "batch_normalization_47/beta:0: 0.00% sparsity  (0/56)\n",
      "batch_normalization_47/moving_mean:0: 0.00% sparsity  (0/56)\n",
      "batch_normalization_47/moving_variance:0: 0.00% sparsity  (0/56)\n",
      "conv2d_32/kernel:0: 59.82% sparsity  (11255/18816)\n",
      "batch_normalization_48/gamma:0: 0.00% sparsity  (0/336)\n",
      "batch_normalization_48/beta:0: 0.00% sparsity  (0/336)\n",
      "batch_normalization_48/moving_mean:0: 0.00% sparsity  (0/336)\n",
      "batch_normalization_48/moving_variance:0: 0.00% sparsity  (0/336)\n",
      "depthwise_conv2d_16/depthwise_kernel:0: 0.00% sparsity  (0/3024)\n",
      "batch_normalization_49/gamma:0: 0.00% sparsity  (0/336)\n",
      "batch_normalization_49/beta:0: 0.00% sparsity  (0/336)\n",
      "batch_normalization_49/moving_mean:0: 0.00% sparsity  (0/336)\n",
      "batch_normalization_49/moving_variance:0: 0.00% sparsity  (0/336)\n",
      "conv2d_33/kernel:0: 59.82% sparsity  (22510/37632)\n",
      "batch_normalization_50/gamma:0: 0.00% sparsity  (0/112)\n",
      "batch_normalization_50/beta:0: 0.00% sparsity  (0/112)\n",
      "batch_normalization_50/moving_mean:0: 0.00% sparsity  (0/112)\n",
      "batch_normalization_50/moving_variance:0: 0.00% sparsity  (0/112)\n",
      "conv2d_34/kernel:0: 59.82% sparsity  (85751/143360)\n",
      "batch_normalization_51/gamma:0: 0.00% sparsity  (0/1280)\n",
      "batch_normalization_51/beta:0: 0.00% sparsity  (0/1280)\n",
      "batch_normalization_51/moving_mean:0: 0.00% sparsity  (0/1280)\n",
      "batch_normalization_51/moving_variance:0: 0.00% sparsity  (0/1280)\n",
      "dense/kernel:0: 59.81% sparsity  (24500/40960)\n",
      "dense/bias:0: 0.00% sparsity  (0/32)\n",
      "dense_1/kernel:0: 59.77% sparsity  (306/512)\n",
      "dense_1/bias:0: 0.00% sparsity  (0/16)\n",
      "dense_2/kernel:0: 59.72% sparsity  (86/144)\n",
      "dense_2/bias:0: 0.00% sparsity  (0/9)\n"
     ]
    }
   ],
   "source": [
    "stripped_pruned_model = tfmot.sparsity.keras.strip_pruning(pruned_model)\n",
    "print_model_weights_sparsity(stripped_pruned_model)"
   ]
  },
  {
   "cell_type": "code",
   "execution_count": 14,
   "metadata": {},
   "outputs": [],
   "source": [
    "if SAVE:\n",
    "    stripped_pruned_model.save('saved_models/' + MODEL_NAME + '.keras')"
   ]
  },
  {
   "cell_type": "code",
   "execution_count": 15,
   "metadata": {},
   "outputs": [
    {
     "name": "stdout",
     "output_type": "stream",
     "text": [
      "Pruned model size:  1.005517  MB\n"
     ]
    }
   ],
   "source": [
    "print(\"Pruned model size: \", get_zipped_model_size('saved_models/' + MODEL_NAME + '.keras')/10**6, ' MB')"
   ]
  }
 ],
 "metadata": {
  "kernelspec": {
   "display_name": "Python 3",
   "language": "python",
   "name": "python3"
  },
  "language_info": {
   "codemirror_mode": {
    "name": "ipython",
    "version": 3
   },
   "file_extension": ".py",
   "mimetype": "text/x-python",
   "name": "python",
   "nbconvert_exporter": "python",
   "pygments_lexer": "ipython3",
   "version": "3.9.13"
  }
 },
 "nbformat": 4,
 "nbformat_minor": 2
}
