{
 "cells": [
  {
   "cell_type": "code",
   "execution_count": 1,
   "metadata": {},
   "outputs": [
    {
     "name": "stdout",
     "output_type": "stream",
     "text": [
      "WARNING:tensorflow:From C:\\Users\\ALESSANDRO\\AppData\\Local\\Packages\\PythonSoftwareFoundation.Python.3.9_qbz5n2kfra8p0\\LocalCache\\local-packages\\Python39\\site-packages\\tf_keras\\src\\losses.py:2976: The name tf.losses.sparse_softmax_cross_entropy is deprecated. Please use tf.compat.v1.losses.sparse_softmax_cross_entropy instead.\n",
      "\n"
     ]
    }
   ],
   "source": [
    "import os;os.environ[\"TF_USE_LEGACY_KERAS\"]=\"1\"\n",
    "\n",
    "import tensorflow_model_optimization as tfmot\n",
    "import numpy as np\n",
    "from tensorflow import keras\n",
    "\n",
    "from preprocessing import dataset_preprocessing\n",
    "from utils import get_zipped_model_size, print_model_weights_sparsity"
   ]
  },
  {
   "cell_type": "code",
   "execution_count": 2,
   "metadata": {},
   "outputs": [],
   "source": [
    "BATCH_SIZE = 16\n",
    "IMAGE_SIZE = 224\n",
    "INPUT_SHAPE = (IMAGE_SIZE, IMAGE_SIZE, 3)\n",
    "EPOCHS = 70\n",
    "DROPOUT = 0.2\n",
    "SCALE = 127.5\n",
    "OFFSET = -1\n",
    "\n",
    "PRUNING_EPOCHS = 3\n",
    "INITIAL_SPARSITY = 0.20\n",
    "FINAL_SPARSITY = 0.60\n",
    "\n",
    "PATH = \"..\\coffe_dataset\"\n",
    "\n",
    "LOADED_MODEL = \"01_mobilenet_v2_0.35_224_distilled\"\n",
    "MODEL_NAME = \"01_pruned_mobilenet_v2_0.35_224_distilled\""
   ]
  },
  {
   "cell_type": "code",
   "execution_count": 3,
   "metadata": {},
   "outputs": [
    {
     "name": "stdout",
     "output_type": "stream",
     "text": [
      "Found 1379 files belonging to 9 classes.\n",
      "WARNING:tensorflow:From C:\\Users\\ALESSANDRO\\AppData\\Local\\Packages\\PythonSoftwareFoundation.Python.3.9_qbz5n2kfra8p0\\LocalCache\\local-packages\\Python39\\site-packages\\tf_keras\\src\\backend.py:873: The name tf.get_default_graph is deprecated. Please use tf.compat.v1.get_default_graph instead.\n",
      "\n"
     ]
    }
   ],
   "source": [
    "dataset = keras.utils.image_dataset_from_directory(PATH,\n",
    "                                                   shuffle = True,\n",
    "                                                   batch_size = BATCH_SIZE,\n",
    "                                                   image_size = (IMAGE_SIZE, IMAGE_SIZE))\n",
    "\n",
    "class_names = dataset.class_names\n",
    "number_classes = len(class_names)\n",
    "\n",
    "training_dataset, validation_dataset, testing_dataset = dataset_preprocessing(dataset,\n",
    "                                                                              train_size=0.60,\n",
    "                                                                              validation_size=0.17, \n",
    "                                                                              augmentation_flag = True, \n",
    "                                                                              rescaling_flag = True, \n",
    "                                                                              prefetch_flag = True, \n",
    "                                                                              scale = SCALE, \n",
    "                                                                              offset = OFFSET)"
   ]
  },
  {
   "cell_type": "code",
   "execution_count": 4,
   "metadata": {},
   "outputs": [
    {
     "name": "stdout",
     "output_type": "stream",
     "text": [
      "WARNING:tensorflow:From C:\\Users\\ALESSANDRO\\AppData\\Local\\Packages\\PythonSoftwareFoundation.Python.3.9_qbz5n2kfra8p0\\LocalCache\\local-packages\\Python39\\site-packages\\tf_keras\\src\\layers\\normalization\\batch_normalization.py:979: The name tf.nn.fused_batch_norm is deprecated. Please use tf.compat.v1.nn.fused_batch_norm instead.\n",
      "\n"
     ]
    },
    {
     "name": "stderr",
     "output_type": "stream",
     "text": [
      "WARNING:absl:Skipping variable loading for optimizer 'Adam', because it has 271 variables whereas the saved optimizer has 1 variables. \n"
     ]
    }
   ],
   "source": [
    "model = keras.models.load_model('saved_models/' + LOADED_MODEL + '.keras')"
   ]
  },
  {
   "cell_type": "code",
   "execution_count": 5,
   "metadata": {},
   "outputs": [],
   "source": [
    "#_, baseline_accuracy = model.evaluate(testing_dataset, verbose = 0)\n",
    "#print('Baseline accuracy: ', round(baseline_accuracy*100, 3), '%')"
   ]
  },
  {
   "cell_type": "code",
   "execution_count": 6,
   "metadata": {},
   "outputs": [],
   "source": [
    "#model.summary()"
   ]
  },
  {
   "cell_type": "code",
   "execution_count": 7,
   "metadata": {},
   "outputs": [],
   "source": [
    "from custom_mobilenet_v2 import MobileNet_v2\n",
    "\n",
    "custom_model = MobileNet_v2(INPUT_SHAPE, 0.35, number_classes, dropout=DROPOUT)\n",
    "\n",
    "for i, layer in enumerate(model.layers):\n",
    "        custom_model.layers[i].set_weights(layer.get_weights())"
   ]
  },
  {
   "cell_type": "code",
   "execution_count": 8,
   "metadata": {},
   "outputs": [
    {
     "name": "stdout",
     "output_type": "stream",
     "text": [
      "WARNING:tensorflow:From C:\\Users\\ALESSANDRO\\AppData\\Local\\Packages\\PythonSoftwareFoundation.Python.3.9_qbz5n2kfra8p0\\LocalCache\\local-packages\\Python39\\site-packages\\tensorflow\\python\\autograph\\converters\\directives.py:126: The name tf.ragged.RaggedTensorValue is deprecated. Please use tf.compat.v1.ragged.RaggedTensorValue instead.\n",
      "\n"
     ]
    },
    {
     "name": "stderr",
     "output_type": "stream",
     "text": [
      "WARNING:tensorflow:From C:\\Users\\ALESSANDRO\\AppData\\Local\\Packages\\PythonSoftwareFoundation.Python.3.9_qbz5n2kfra8p0\\LocalCache\\local-packages\\Python39\\site-packages\\tensorflow\\python\\autograph\\converters\\directives.py:126: The name tf.ragged.RaggedTensorValue is deprecated. Please use tf.compat.v1.ragged.RaggedTensorValue instead.\n",
      "\n"
     ]
    },
    {
     "name": "stdout",
     "output_type": "stream",
     "text": [
      "WARNING:tensorflow:From C:\\Users\\ALESSANDRO\\AppData\\Local\\Packages\\PythonSoftwareFoundation.Python.3.9_qbz5n2kfra8p0\\LocalCache\\local-packages\\Python39\\site-packages\\tf_keras\\src\\engine\\base_layer_utils.py:384: The name tf.executing_eagerly_outside_functions is deprecated. Please use tf.compat.v1.executing_eagerly_outside_functions instead.\n",
      "\n"
     ]
    },
    {
     "name": "stderr",
     "output_type": "stream",
     "text": [
      "WARNING:tensorflow:From C:\\Users\\ALESSANDRO\\AppData\\Local\\Packages\\PythonSoftwareFoundation.Python.3.9_qbz5n2kfra8p0\\LocalCache\\local-packages\\Python39\\site-packages\\tf_keras\\src\\engine\\base_layer_utils.py:384: The name tf.executing_eagerly_outside_functions is deprecated. Please use tf.compat.v1.executing_eagerly_outside_functions instead.\n",
      "\n"
     ]
    },
    {
     "name": "stdout",
     "output_type": "stream",
     "text": [
      "Baseline accuracy:  2.381 %\n"
     ]
    }
   ],
   "source": [
    "custom_model.compile(optimizer = keras.optimizers.Adam(1e-3),\n",
    "              loss= keras.losses.SparseCategoricalCrossentropy(from_logits=False),\n",
    "              metrics=['accuracy'])\n",
    "\n",
    "_, baseline_accuracy = custom_model.evaluate(testing_dataset, verbose = 0)\n",
    "\n",
    "print('Baseline accuracy: ' , round(100* baseline_accuracy,3),  '%')"
   ]
  },
  {
   "cell_type": "code",
   "execution_count": 9,
   "metadata": {},
   "outputs": [],
   "source": [
    "#custom_model.summary()"
   ]
  },
  {
   "cell_type": "code",
   "execution_count": 10,
   "metadata": {},
   "outputs": [
    {
     "name": "stdout",
     "output_type": "stream",
     "text": [
      "Epoch 1/3\n",
      "52/52 [==============================] - 136s 1s/step - loss: 2.1107 - accuracy: 0.2728 - val_loss: 2.1809 - val_accuracy: 0.3929\n",
      "Epoch 2/3\n",
      "52/52 [==============================] - 27s 519ms/step - loss: 2.0778 - accuracy: 0.3534 - val_loss: 2.1809 - val_accuracy: 0.0357\n",
      "Epoch 3/3\n",
      "52/52 [==============================] - 27s 522ms/step - loss: 2.0376 - accuracy: 0.3510 - val_loss: 2.1546 - val_accuracy: 0.3929\n"
     ]
    },
    {
     "data": {
      "text/plain": [
       "<tf_keras.src.callbacks.History at 0x1bf1d87ae20>"
      ]
     },
     "execution_count": 10,
     "metadata": {},
     "output_type": "execute_result"
    }
   ],
   "source": [
    "custom_model.trainable= True\n",
    "\n",
    "prune_low_magnitude = tfmot.sparsity.keras.prune_low_magnitude\n",
    "\n",
    "num_images = (len(training_dataset)) *BATCH_SIZE\n",
    "end_step = np.ceil(num_images / BATCH_SIZE).astype(np.int32) * PRUNING_EPOCHS\n",
    "\n",
    "\n",
    "pruning_params = {\n",
    "    'pruning_schedule': tfmot.sparsity.keras.PolynomialDecay(initial_sparsity=INITIAL_SPARSITY, \n",
    "                                                             final_sparsity=FINAL_SPARSITY,\n",
    "                                                             begin_step=0, \n",
    "                                                             end_step=end_step,\n",
    "                                                             frequency = 30)}\n",
    "''' \n",
    "pruning_params = {\n",
    "    'pruning_schedule': tfmot.sparsity.keras.ConstantSparsity(0.5,\n",
    "                                                              begin_step=0,\n",
    "                                                              frequency=100)}\n",
    "'''\n",
    "\n",
    "pruned_model = prune_low_magnitude(custom_model, **pruning_params)\n",
    "\n",
    "callbacks = [tfmot.sparsity.keras.UpdatePruningStep()]\n",
    "\n",
    "pruned_model.compile(optimizer= keras.optimizers.Adam(learning_rate=1e-5),\n",
    "                     loss= keras.losses.SparseCategoricalCrossentropy(from_logits=False),\n",
    "                     metrics=['accuracy'])\n",
    "\n",
    "\n",
    "# Fine tune the model\n",
    "pruned_model.fit(training_dataset,\n",
    "                 validation_data=validation_dataset,\n",
    "                 epochs= PRUNING_EPOCHS,\n",
    "                 verbose=1,\n",
    "                 callbacks=callbacks)"
   ]
  },
  {
   "cell_type": "code",
   "execution_count": 11,
   "metadata": {},
   "outputs": [
    {
     "name": "stdout",
     "output_type": "stream",
     "text": [
      "Epoch 1/70\n",
      "52/52 [==============================] - 95s 691ms/step - loss: 1.8366 - accuracy: 0.3377 - val_loss: 2.0313 - val_accuracy: 0.1607\n",
      "Epoch 2/70\n",
      "52/52 [==============================] - 30s 571ms/step - loss: 1.6714 - accuracy: 0.3714 - val_loss: 2.0357 - val_accuracy: 0.1607\n",
      "Epoch 3/70\n",
      "52/52 [==============================] - 29s 561ms/step - loss: 1.5823 - accuracy: 0.4195 - val_loss: 2.1896 - val_accuracy: 0.0670\n",
      "Epoch 4/70\n",
      "52/52 [==============================] - 29s 557ms/step - loss: 1.5240 - accuracy: 0.4255 - val_loss: 2.1080 - val_accuracy: 0.0670\n",
      "Epoch 5/70\n",
      "52/52 [==============================] - 32s 616ms/step - loss: 1.3684 - accuracy: 0.4724 - val_loss: 2.2831 - val_accuracy: 0.0670\n",
      "Epoch 6/70\n",
      "52/52 [==============================] - 30s 572ms/step - loss: 1.2745 - accuracy: 0.4928 - val_loss: 2.4033 - val_accuracy: 0.0670\n"
     ]
    },
    {
     "data": {
      "text/plain": [
       "<tf_keras.src.callbacks.History at 0x1bf15a53d00>"
      ]
     },
     "execution_count": 11,
     "metadata": {},
     "output_type": "execute_result"
    }
   ],
   "source": [
    "pruned_model.compile(optimizer = keras.optimizers.Adam(1e-3),\n",
    "              loss= keras.losses.SparseCategoricalCrossentropy(from_logits=False),\n",
    "              metrics=['accuracy'])\n",
    "\n",
    "early_stopping = keras.callbacks.EarlyStopping(patience=5, monitor='val_accuracy', restore_best_weights=True )\n",
    "\n",
    "pruned_model.fit(training_dataset,\n",
    "                 validation_data=validation_dataset,\n",
    "                 epochs=EPOCHS,\n",
    "                 callbacks=[early_stopping])"
   ]
  },
  {
   "cell_type": "code",
   "execution_count": 12,
   "metadata": {},
   "outputs": [
    {
     "name": "stdout",
     "output_type": "stream",
     "text": [
      "Baseline accuracy:  2.381 %\n",
      "Pruned accuracy:  18.75 %\n"
     ]
    }
   ],
   "source": [
    "_, pruned_accuracy = pruned_model.evaluate(testing_dataset, verbose = 0)\n",
    "print('Baseline accuracy: ' , round(100* baseline_accuracy,3),  '%')\n",
    "print('Pruned accuracy: '   , round(100* pruned_accuracy,3) ,   '%')"
   ]
  },
  {
   "cell_type": "code",
   "execution_count": 13,
   "metadata": {},
   "outputs": [
    {
     "name": "stdout",
     "output_type": "stream",
     "text": [
      "conv2d/kernel:0: 59.95% sparsity  (259/432)\n",
      "batch_normalization/gamma:0: 0.00% sparsity  (0/16)\n",
      "batch_normalization/beta:0: 0.00% sparsity  (0/16)\n",
      "batch_normalization/moving_mean:0: 0.00% sparsity  (0/16)\n",
      "batch_normalization/moving_variance:0: 0.00% sparsity  (0/16)\n",
      "depthwise_conv2d/depthwise_kernel:0: 0.00% sparsity  (0/144)\n",
      "batch_normalization_1/gamma:0: 0.00% sparsity  (0/16)\n",
      "batch_normalization_1/beta:0: 0.00% sparsity  (0/16)\n",
      "batch_normalization_1/moving_mean:0: 0.00% sparsity  (0/16)\n",
      "batch_normalization_1/moving_variance:0: 0.00% sparsity  (0/16)\n",
      "conv2d_1/kernel:0: 60.16% sparsity  (77/128)\n",
      "batch_normalization_2/gamma:0: 0.00% sparsity  (0/8)\n",
      "batch_normalization_2/beta:0: 0.00% sparsity  (0/8)\n",
      "batch_normalization_2/moving_mean:0: 0.00% sparsity  (0/8)\n",
      "batch_normalization_2/moving_variance:0: 0.00% sparsity  (0/8)\n",
      "conv2d_2/kernel:0: 59.90% sparsity  (230/384)\n",
      "batch_normalization_3/gamma:0: 0.00% sparsity  (0/48)\n",
      "batch_normalization_3/beta:0: 0.00% sparsity  (0/48)\n",
      "batch_normalization_3/moving_mean:0: 0.00% sparsity  (0/48)\n",
      "batch_normalization_3/moving_variance:0: 0.00% sparsity  (0/48)\n",
      "depthwise_conv2d_1/depthwise_kernel:0: 0.00% sparsity  (0/432)\n",
      "batch_normalization_4/gamma:0: 0.00% sparsity  (0/48)\n",
      "batch_normalization_4/beta:0: 0.00% sparsity  (0/48)\n",
      "batch_normalization_4/moving_mean:0: 0.00% sparsity  (0/48)\n",
      "batch_normalization_4/moving_variance:0: 0.00% sparsity  (0/48)\n",
      "conv2d_3/kernel:0: 59.90% sparsity  (230/384)\n",
      "batch_normalization_5/gamma:0: 0.00% sparsity  (0/8)\n",
      "batch_normalization_5/beta:0: 0.00% sparsity  (0/8)\n",
      "batch_normalization_5/moving_mean:0: 0.00% sparsity  (0/8)\n",
      "batch_normalization_5/moving_variance:0: 0.00% sparsity  (0/8)\n",
      "conv2d_4/kernel:0: 59.90% sparsity  (230/384)\n",
      "batch_normalization_6/gamma:0: 0.00% sparsity  (0/48)\n",
      "batch_normalization_6/beta:0: 0.00% sparsity  (0/48)\n",
      "batch_normalization_6/moving_mean:0: 0.00% sparsity  (0/48)\n",
      "batch_normalization_6/moving_variance:0: 0.00% sparsity  (0/48)\n",
      "depthwise_conv2d_2/depthwise_kernel:0: 0.00% sparsity  (0/432)\n",
      "batch_normalization_7/gamma:0: 0.00% sparsity  (0/48)\n",
      "batch_normalization_7/beta:0: 0.00% sparsity  (0/48)\n",
      "batch_normalization_7/moving_mean:0: 0.00% sparsity  (0/48)\n",
      "batch_normalization_7/moving_variance:0: 0.00% sparsity  (0/48)\n",
      "conv2d_5/kernel:0: 59.90% sparsity  (230/384)\n",
      "batch_normalization_8/gamma:0: 0.00% sparsity  (0/8)\n",
      "batch_normalization_8/beta:0: 0.00% sparsity  (0/8)\n",
      "batch_normalization_8/moving_mean:0: 0.00% sparsity  (0/8)\n",
      "batch_normalization_8/moving_variance:0: 0.00% sparsity  (0/8)\n",
      "conv2d_6/kernel:0: 59.90% sparsity  (230/384)\n",
      "batch_normalization_9/gamma:0: 0.00% sparsity  (0/48)\n",
      "batch_normalization_9/beta:0: 0.00% sparsity  (0/48)\n",
      "batch_normalization_9/moving_mean:0: 0.00% sparsity  (0/48)\n",
      "batch_normalization_9/moving_variance:0: 0.00% sparsity  (0/48)\n",
      "depthwise_conv2d_3/depthwise_kernel:0: 0.00% sparsity  (0/432)\n",
      "batch_normalization_10/gamma:0: 0.00% sparsity  (0/48)\n",
      "batch_normalization_10/beta:0: 0.00% sparsity  (0/48)\n",
      "batch_normalization_10/moving_mean:0: 0.00% sparsity  (0/48)\n",
      "batch_normalization_10/moving_variance:0: 0.00% sparsity  (0/48)\n",
      "conv2d_7/kernel:0: 60.03% sparsity  (461/768)\n",
      "batch_normalization_11/gamma:0: 0.00% sparsity  (0/16)\n",
      "batch_normalization_11/beta:0: 0.00% sparsity  (0/16)\n",
      "batch_normalization_11/moving_mean:0: 0.00% sparsity  (0/16)\n",
      "batch_normalization_11/moving_variance:0: 0.00% sparsity  (0/16)\n",
      "conv2d_8/kernel:0: 60.03% sparsity  (922/1536)\n",
      "batch_normalization_12/gamma:0: 0.00% sparsity  (0/96)\n",
      "batch_normalization_12/beta:0: 0.00% sparsity  (0/96)\n",
      "batch_normalization_12/moving_mean:0: 0.00% sparsity  (0/96)\n",
      "batch_normalization_12/moving_variance:0: 0.00% sparsity  (0/96)\n",
      "depthwise_conv2d_4/depthwise_kernel:0: 0.00% sparsity  (0/864)\n",
      "batch_normalization_13/gamma:0: 0.00% sparsity  (0/96)\n",
      "batch_normalization_13/beta:0: 0.00% sparsity  (0/96)\n",
      "batch_normalization_13/moving_mean:0: 0.00% sparsity  (0/96)\n",
      "batch_normalization_13/moving_variance:0: 0.00% sparsity  (0/96)\n",
      "conv2d_9/kernel:0: 60.03% sparsity  (922/1536)\n",
      "batch_normalization_14/gamma:0: 0.00% sparsity  (0/16)\n",
      "batch_normalization_14/beta:0: 0.00% sparsity  (0/16)\n",
      "batch_normalization_14/moving_mean:0: 0.00% sparsity  (0/16)\n",
      "batch_normalization_14/moving_variance:0: 0.00% sparsity  (0/16)\n",
      "conv2d_10/kernel:0: 60.03% sparsity  (922/1536)\n",
      "batch_normalization_15/gamma:0: 0.00% sparsity  (0/96)\n",
      "batch_normalization_15/beta:0: 0.00% sparsity  (0/96)\n",
      "batch_normalization_15/moving_mean:0: 0.00% sparsity  (0/96)\n",
      "batch_normalization_15/moving_variance:0: 0.00% sparsity  (0/96)\n",
      "depthwise_conv2d_5/depthwise_kernel:0: 0.00% sparsity  (0/864)\n",
      "batch_normalization_16/gamma:0: 0.00% sparsity  (0/96)\n",
      "batch_normalization_16/beta:0: 0.00% sparsity  (0/96)\n",
      "batch_normalization_16/moving_mean:0: 0.00% sparsity  (0/96)\n",
      "batch_normalization_16/moving_variance:0: 0.00% sparsity  (0/96)\n",
      "conv2d_11/kernel:0: 60.03% sparsity  (922/1536)\n",
      "batch_normalization_17/gamma:0: 0.00% sparsity  (0/16)\n",
      "batch_normalization_17/beta:0: 0.00% sparsity  (0/16)\n",
      "batch_normalization_17/moving_mean:0: 0.00% sparsity  (0/16)\n",
      "batch_normalization_17/moving_variance:0: 0.00% sparsity  (0/16)\n",
      "conv2d_12/kernel:0: 60.03% sparsity  (922/1536)\n",
      "batch_normalization_18/gamma:0: 0.00% sparsity  (0/96)\n",
      "batch_normalization_18/beta:0: 0.00% sparsity  (0/96)\n",
      "batch_normalization_18/moving_mean:0: 0.00% sparsity  (0/96)\n",
      "batch_normalization_18/moving_variance:0: 0.00% sparsity  (0/96)\n",
      "depthwise_conv2d_6/depthwise_kernel:0: 0.00% sparsity  (0/864)\n",
      "batch_normalization_19/gamma:0: 0.00% sparsity  (0/96)\n",
      "batch_normalization_19/beta:0: 0.00% sparsity  (0/96)\n",
      "batch_normalization_19/moving_mean:0: 0.00% sparsity  (0/96)\n",
      "batch_normalization_19/moving_variance:0: 0.00% sparsity  (0/96)\n",
      "conv2d_13/kernel:0: 59.98% sparsity  (1382/2304)\n",
      "batch_normalization_20/gamma:0: 0.00% sparsity  (0/24)\n",
      "batch_normalization_20/beta:0: 0.00% sparsity  (0/24)\n",
      "batch_normalization_20/moving_mean:0: 0.00% sparsity  (0/24)\n",
      "batch_normalization_20/moving_variance:0: 0.00% sparsity  (0/24)\n",
      "conv2d_14/kernel:0: 60.01% sparsity  (2074/3456)\n",
      "batch_normalization_21/gamma:0: 0.00% sparsity  (0/144)\n",
      "batch_normalization_21/beta:0: 0.00% sparsity  (0/144)\n",
      "batch_normalization_21/moving_mean:0: 0.00% sparsity  (0/144)\n",
      "batch_normalization_21/moving_variance:0: 0.00% sparsity  (0/144)\n",
      "depthwise_conv2d_7/depthwise_kernel:0: 0.00% sparsity  (0/1296)\n",
      "batch_normalization_22/gamma:0: 0.00% sparsity  (0/144)\n",
      "batch_normalization_22/beta:0: 0.00% sparsity  (0/144)\n",
      "batch_normalization_22/moving_mean:0: 0.00% sparsity  (0/144)\n",
      "batch_normalization_22/moving_variance:0: 0.00% sparsity  (0/144)\n",
      "conv2d_15/kernel:0: 60.01% sparsity  (2074/3456)\n",
      "batch_normalization_23/gamma:0: 0.00% sparsity  (0/24)\n",
      "batch_normalization_23/beta:0: 0.00% sparsity  (0/24)\n",
      "batch_normalization_23/moving_mean:0: 0.00% sparsity  (0/24)\n",
      "batch_normalization_23/moving_variance:0: 0.00% sparsity  (0/24)\n",
      "conv2d_16/kernel:0: 60.01% sparsity  (2074/3456)\n",
      "batch_normalization_24/gamma:0: 0.00% sparsity  (0/144)\n",
      "batch_normalization_24/beta:0: 0.00% sparsity  (0/144)\n",
      "batch_normalization_24/moving_mean:0: 0.00% sparsity  (0/144)\n",
      "batch_normalization_24/moving_variance:0: 0.00% sparsity  (0/144)\n",
      "depthwise_conv2d_8/depthwise_kernel:0: 0.00% sparsity  (0/1296)\n",
      "batch_normalization_25/gamma:0: 0.00% sparsity  (0/144)\n",
      "batch_normalization_25/beta:0: 0.00% sparsity  (0/144)\n",
      "batch_normalization_25/moving_mean:0: 0.00% sparsity  (0/144)\n",
      "batch_normalization_25/moving_variance:0: 0.00% sparsity  (0/144)\n",
      "conv2d_17/kernel:0: 60.01% sparsity  (2074/3456)\n",
      "batch_normalization_26/gamma:0: 0.00% sparsity  (0/24)\n",
      "batch_normalization_26/beta:0: 0.00% sparsity  (0/24)\n",
      "batch_normalization_26/moving_mean:0: 0.00% sparsity  (0/24)\n",
      "batch_normalization_26/moving_variance:0: 0.00% sparsity  (0/24)\n",
      "conv2d_18/kernel:0: 60.01% sparsity  (2074/3456)\n",
      "batch_normalization_27/gamma:0: 0.00% sparsity  (0/144)\n",
      "batch_normalization_27/beta:0: 0.00% sparsity  (0/144)\n",
      "batch_normalization_27/moving_mean:0: 0.00% sparsity  (0/144)\n",
      "batch_normalization_27/moving_variance:0: 0.00% sparsity  (0/144)\n",
      "depthwise_conv2d_9/depthwise_kernel:0: 0.00% sparsity  (0/1296)\n",
      "batch_normalization_28/gamma:0: 0.00% sparsity  (0/144)\n",
      "batch_normalization_28/beta:0: 0.00% sparsity  (0/144)\n",
      "batch_normalization_28/moving_mean:0: 0.00% sparsity  (0/144)\n",
      "batch_normalization_28/moving_variance:0: 0.00% sparsity  (0/144)\n",
      "conv2d_19/kernel:0: 60.01% sparsity  (2074/3456)\n",
      "batch_normalization_29/gamma:0: 0.00% sparsity  (0/24)\n",
      "batch_normalization_29/beta:0: 0.00% sparsity  (0/24)\n",
      "batch_normalization_29/moving_mean:0: 0.00% sparsity  (0/24)\n",
      "batch_normalization_29/moving_variance:0: 0.00% sparsity  (0/24)\n",
      "conv2d_20/kernel:0: 60.01% sparsity  (2074/3456)\n",
      "batch_normalization_30/gamma:0: 0.00% sparsity  (0/144)\n",
      "batch_normalization_30/beta:0: 0.00% sparsity  (0/144)\n",
      "batch_normalization_30/moving_mean:0: 0.00% sparsity  (0/144)\n",
      "batch_normalization_30/moving_variance:0: 0.00% sparsity  (0/144)\n",
      "depthwise_conv2d_10/depthwise_kernel:0: 0.00% sparsity  (0/1296)\n",
      "batch_normalization_31/gamma:0: 0.00% sparsity  (0/144)\n",
      "batch_normalization_31/beta:0: 0.00% sparsity  (0/144)\n",
      "batch_normalization_31/moving_mean:0: 0.00% sparsity  (0/144)\n",
      "batch_normalization_31/moving_variance:0: 0.00% sparsity  (0/144)\n",
      "conv2d_21/kernel:0: 60.00% sparsity  (2765/4608)\n",
      "batch_normalization_32/gamma:0: 0.00% sparsity  (0/32)\n",
      "batch_normalization_32/beta:0: 0.00% sparsity  (0/32)\n",
      "batch_normalization_32/moving_mean:0: 0.00% sparsity  (0/32)\n",
      "batch_normalization_32/moving_variance:0: 0.00% sparsity  (0/32)\n",
      "conv2d_22/kernel:0: 59.99% sparsity  (3686/6144)\n",
      "batch_normalization_33/gamma:0: 0.00% sparsity  (0/192)\n",
      "batch_normalization_33/beta:0: 0.00% sparsity  (0/192)\n",
      "batch_normalization_33/moving_mean:0: 0.00% sparsity  (0/192)\n",
      "batch_normalization_33/moving_variance:0: 0.00% sparsity  (0/192)\n",
      "depthwise_conv2d_11/depthwise_kernel:0: 0.00% sparsity  (0/1728)\n",
      "batch_normalization_34/gamma:0: 0.00% sparsity  (0/192)\n",
      "batch_normalization_34/beta:0: 0.00% sparsity  (0/192)\n",
      "batch_normalization_34/moving_mean:0: 0.00% sparsity  (0/192)\n",
      "batch_normalization_34/moving_variance:0: 0.00% sparsity  (0/192)\n",
      "conv2d_23/kernel:0: 59.99% sparsity  (3686/6144)\n",
      "batch_normalization_35/gamma:0: 0.00% sparsity  (0/32)\n",
      "batch_normalization_35/beta:0: 0.00% sparsity  (0/32)\n",
      "batch_normalization_35/moving_mean:0: 0.00% sparsity  (0/32)\n",
      "batch_normalization_35/moving_variance:0: 0.00% sparsity  (0/32)\n",
      "conv2d_24/kernel:0: 59.99% sparsity  (3686/6144)\n",
      "batch_normalization_36/gamma:0: 0.00% sparsity  (0/192)\n",
      "batch_normalization_36/beta:0: 0.00% sparsity  (0/192)\n",
      "batch_normalization_36/moving_mean:0: 0.00% sparsity  (0/192)\n",
      "batch_normalization_36/moving_variance:0: 0.00% sparsity  (0/192)\n",
      "depthwise_conv2d_12/depthwise_kernel:0: 0.00% sparsity  (0/1728)\n",
      "batch_normalization_37/gamma:0: 0.00% sparsity  (0/192)\n",
      "batch_normalization_37/beta:0: 0.00% sparsity  (0/192)\n",
      "batch_normalization_37/moving_mean:0: 0.00% sparsity  (0/192)\n",
      "batch_normalization_37/moving_variance:0: 0.00% sparsity  (0/192)\n",
      "conv2d_25/kernel:0: 59.99% sparsity  (3686/6144)\n",
      "batch_normalization_38/gamma:0: 0.00% sparsity  (0/32)\n",
      "batch_normalization_38/beta:0: 0.00% sparsity  (0/32)\n",
      "batch_normalization_38/moving_mean:0: 0.00% sparsity  (0/32)\n",
      "batch_normalization_38/moving_variance:0: 0.00% sparsity  (0/32)\n",
      "conv2d_26/kernel:0: 59.99% sparsity  (3686/6144)\n",
      "batch_normalization_39/gamma:0: 0.00% sparsity  (0/192)\n",
      "batch_normalization_39/beta:0: 0.00% sparsity  (0/192)\n",
      "batch_normalization_39/moving_mean:0: 0.00% sparsity  (0/192)\n",
      "batch_normalization_39/moving_variance:0: 0.00% sparsity  (0/192)\n",
      "depthwise_conv2d_13/depthwise_kernel:0: 0.00% sparsity  (0/1728)\n",
      "batch_normalization_40/gamma:0: 0.00% sparsity  (0/192)\n",
      "batch_normalization_40/beta:0: 0.00% sparsity  (0/192)\n",
      "batch_normalization_40/moving_mean:0: 0.00% sparsity  (0/192)\n",
      "batch_normalization_40/moving_variance:0: 0.00% sparsity  (0/192)\n",
      "conv2d_27/kernel:0: 60.00% sparsity  (6451/10752)\n",
      "batch_normalization_41/gamma:0: 0.00% sparsity  (0/56)\n",
      "batch_normalization_41/beta:0: 0.00% sparsity  (0/56)\n",
      "batch_normalization_41/moving_mean:0: 0.00% sparsity  (0/56)\n",
      "batch_normalization_41/moving_variance:0: 0.00% sparsity  (0/56)\n",
      "conv2d_28/kernel:0: 60.00% sparsity  (43006/71680)\n",
      "batch_normalization_42/gamma:0: 0.00% sparsity  (0/1280)\n",
      "batch_normalization_42/beta:0: 0.00% sparsity  (0/1280)\n",
      "batch_normalization_42/moving_mean:0: 0.00% sparsity  (0/1280)\n",
      "batch_normalization_42/moving_variance:0: 0.00% sparsity  (0/1280)\n",
      "dense/kernel:0: 60.00% sparsity  (24575/40960)\n",
      "dense/bias:0: 0.00% sparsity  (0/32)\n",
      "dense_1/kernel:0: 59.96% sparsity  (307/512)\n",
      "dense_1/bias:0: 0.00% sparsity  (0/16)\n",
      "dense_2/kernel:0: 59.72% sparsity  (86/144)\n",
      "dense_2/bias:0: 0.00% sparsity  (0/9)\n"
     ]
    }
   ],
   "source": [
    "stripped_pruned_model = tfmot.sparsity.keras.strip_pruning(pruned_model)\n",
    "print_model_weights_sparsity(stripped_pruned_model)"
   ]
  },
  {
   "cell_type": "code",
   "execution_count": 14,
   "metadata": {},
   "outputs": [],
   "source": [
    "stripped_pruned_model.save('saved_models/' + MODEL_NAME + '.keras')"
   ]
  },
  {
   "cell_type": "code",
   "execution_count": 15,
   "metadata": {},
   "outputs": [
    {
     "name": "stdout",
     "output_type": "stream",
     "text": [
      "Pruned model size:  0.529102  MB\n"
     ]
    }
   ],
   "source": [
    "print(\"Pruned model size: \", get_zipped_model_size('saved_models/' + MODEL_NAME + '.keras')/10**6, ' MB')"
   ]
  }
 ],
 "metadata": {
  "kernelspec": {
   "display_name": "Python 3",
   "language": "python",
   "name": "python3"
  },
  "language_info": {
   "codemirror_mode": {
    "name": "ipython",
    "version": 3
   },
   "file_extension": ".py",
   "mimetype": "text/x-python",
   "name": "python",
   "nbconvert_exporter": "python",
   "pygments_lexer": "ipython3",
   "version": "3.9.13"
  }
 },
 "nbformat": 4,
 "nbformat_minor": 2
}
